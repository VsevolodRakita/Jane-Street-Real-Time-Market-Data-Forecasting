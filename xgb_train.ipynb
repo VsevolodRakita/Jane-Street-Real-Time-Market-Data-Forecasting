{
 "cells": [
  {
   "cell_type": "markdown",
   "metadata": {},
   "source": [
    "# XGBoost Training Notebook For Jane Street Real-Time Market Data Forecasting"
   ]
  },
  {
   "cell_type": "code",
   "execution_count": 1,
   "metadata": {
    "execution": {
     "iopub.execute_input": "2025-01-24T15:12:53.646043Z",
     "iopub.status.busy": "2025-01-24T15:12:53.645735Z",
     "iopub.status.idle": "2025-01-24T15:12:56.030734Z",
     "shell.execute_reply": "2025-01-24T15:12:56.029823Z",
     "shell.execute_reply.started": "2025-01-24T15:12:53.646007Z"
    },
    "trusted": true
   },
   "outputs": [],
   "source": [
    "import os\n",
    "import joblib \n",
    "\n",
    "import pandas as pd\n",
    "import polars as pl\n",
    "import numpy as np\n",
    "\n",
    "import xgboost as xgb\n",
    "from xgboost import XGBRegressor\n",
    "\n",
    "from sklearn.metrics import r2_score\n",
    "\n",
    "import optuna\n",
    "\n",
    "import pickle\n",
    "\n",
    "from joblib import Parallel, delayed\n",
    "\n",
    "import kaggle_evaluation.jane_street_inference_server"
   ]
  },
  {
   "cell_type": "code",
   "execution_count": 2,
   "metadata": {
    "execution": {
     "iopub.execute_input": "2025-01-24T15:12:56.032509Z",
     "iopub.status.busy": "2025-01-24T15:12:56.032039Z",
     "iopub.status.idle": "2025-01-24T15:12:56.036963Z",
     "shell.execute_reply": "2025-01-24T15:12:56.036077Z",
     "shell.execute_reply.started": "2025-01-24T15:12:56.032475Z"
    },
    "trusted": true
   },
   "outputs": [],
   "source": [
    "target=\"responder_6\"\n",
    "start_date_id = 1448 #use last 250 days\n",
    "lags_cols = [\"date_id\", \"symbol_id\"] + [f\"responder_{idx}\" for idx in range(9)]\n",
    "validation_ratio=0.05\n",
    "features = [\"symbol_id\", \"time_id\"] + [f\"feature_{idx:02d}\" for idx in range(79)] + [f\"responder_{idx}_lag_1\" for idx in range(9)]\n",
    "SEED=42"
   ]
  },
  {
   "cell_type": "code",
   "execution_count": 3,
   "metadata": {
    "execution": {
     "iopub.execute_input": "2025-01-24T15:12:56.038829Z",
     "iopub.status.busy": "2025-01-24T15:12:56.038438Z",
     "iopub.status.idle": "2025-01-24T15:12:56.084014Z",
     "shell.execute_reply": "2025-01-24T15:12:56.083128Z",
     "shell.execute_reply.started": "2025-01-24T15:12:56.038789Z"
    },
    "trusted": true
   },
   "outputs": [],
   "source": [
    "train = pl.scan_parquet(\n",
    "    f\"/kaggle/input/jane-street-real-time-market-data-forecasting/train.parquet\"\n",
    ").select(\n",
    "    pl.int_range(pl.len(), dtype=pl.UInt32).alias(\"id\"),\n",
    "    pl.all(),\n",
    ").with_columns(\n",
    "    (pl.col(target)*2).cast(pl.Int32).alias(\"label\"),\n",
    ").filter(\n",
    "    pl.col(\"date_id\").gt(start_date_id)\n",
    ")"
   ]
  },
  {
   "cell_type": "code",
   "execution_count": 4,
   "metadata": {
    "execution": {
     "iopub.execute_input": "2025-01-24T15:12:56.085062Z",
     "iopub.status.busy": "2025-01-24T15:12:56.084762Z",
     "iopub.status.idle": "2025-01-24T15:12:56.413215Z",
     "shell.execute_reply": "2025-01-24T15:12:56.412287Z",
     "shell.execute_reply.started": "2025-01-24T15:12:56.085028Z"
    },
    "trusted": true
   },
   "outputs": [
    {
     "data": {
      "image/svg+xml": [
       "<svg xmlns=\"http://www.w3.org/2000/svg\" xmlns:xlink=\"http://www.w3.org/1999/xlink\" width=\"778pt\" height=\"262pt\" viewBox=\"0.00 0.00 778.00 262.00\">\n",
       "<g id=\"graph0\" class=\"graph\" transform=\"scale(1 1) rotate(0) translate(4 258)\">\n",
       "<title>polars_query</title>\n",
       "<polygon fill=\"white\" stroke=\"transparent\" points=\"-4,4 -4,-258 774,-258 774,4 -4,4\"/>\n",
       "<!-- p1 -->\n",
       "<g id=\"node1\" class=\"node\">\n",
       "<title>p1</title>\n",
       "<polygon fill=\"none\" stroke=\"black\" points=\"620,-254 150,-254 150,-218 620,-218 620,-254\"/>\n",
       "<text text-anchor=\"middle\" x=\"385\" y=\"-232.3\" font-family=\"Times,serif\" font-size=\"14.00\">WITH COLUMNS [[(col(&quot;responder_6&quot;)) * (2.0)].strict_cast(Int32).alias(&quot;label&quot;)]</text>\n",
       "</g>\n",
       "<!-- p2 -->\n",
       "<g id=\"node2\" class=\"node\">\n",
       "<title>p2</title>\n",
       "<polygon fill=\"none\" stroke=\"black\" points=\"502.5,-182 267.5,-182 267.5,-146 502.5,-146 502.5,-182\"/>\n",
       "<text text-anchor=\"middle\" x=\"385\" y=\"-160.3\" font-family=\"Times,serif\" font-size=\"14.00\">FILTER BY [(col(&quot;date_id&quot;)) &gt; (1448)]</text>\n",
       "</g>\n",
       "<!-- p1&#45;&#45;p2 -->\n",
       "<g id=\"edge1\" class=\"edge\">\n",
       "<title>p1--p2</title>\n",
       "<path fill=\"none\" stroke=\"black\" d=\"M385,-217.7C385,-206.85 385,-192.92 385,-182.1\"/>\n",
       "</g>\n",
       "<!-- p3 -->\n",
       "<g id=\"node3\" class=\"node\">\n",
       "<title>p3</title>\n",
       "<polygon fill=\"none\" stroke=\"black\" points=\"414,-110 356,-110 356,-74 414,-74 414,-110\"/>\n",
       "<text text-anchor=\"middle\" x=\"385\" y=\"-88.3\" font-family=\"Times,serif\" font-size=\"14.00\">π 94/94</text>\n",
       "</g>\n",
       "<!-- p2&#45;&#45;p3 -->\n",
       "<g id=\"edge2\" class=\"edge\">\n",
       "<title>p2--p3</title>\n",
       "<path fill=\"none\" stroke=\"black\" d=\"M385,-145.7C385,-134.85 385,-120.92 385,-110.1\"/>\n",
       "</g>\n",
       "<!-- p4 -->\n",
       "<g id=\"node4\" class=\"node\">\n",
       "<title>p4</title>\n",
       "<polygon fill=\"none\" stroke=\"black\" points=\"770,-38 0,-38 0,0 770,0 770,-38\"/>\n",
       "<text text-anchor=\"middle\" x=\"385\" y=\"-22.8\" font-family=\"Times,serif\" font-size=\"14.00\">Parquet SCAN [/kaggle/input/jane-street-real-time-market-data-forecasting/train.parquet/partition_id=0/part-0.parquet, ... 9 other sources]</text>\n",
       "<text text-anchor=\"middle\" x=\"385\" y=\"-7.8\" font-family=\"Times,serif\" font-size=\"14.00\">π 92/93;</text>\n",
       "</g>\n",
       "<!-- p3&#45;&#45;p4 -->\n",
       "<g id=\"edge3\" class=\"edge\">\n",
       "<title>p3--p4</title>\n",
       "<path fill=\"none\" stroke=\"black\" d=\"M385,-73.81C385,-62.98 385,-49.01 385,-38.02\"/>\n",
       "</g>\n",
       "</g>\n",
       "</svg>"
      ],
      "text/plain": [
       "<IPython.core.display.SVG object>"
      ]
     },
     "metadata": {},
     "output_type": "display_data"
    }
   ],
   "source": [
    "train.show_graph()"
   ]
  },
  {
   "cell_type": "code",
   "execution_count": 5,
   "metadata": {
    "execution": {
     "iopub.execute_input": "2025-01-24T15:12:56.415758Z",
     "iopub.status.busy": "2025-01-24T15:12:56.415526Z",
     "iopub.status.idle": "2025-01-24T15:12:56.449961Z",
     "shell.execute_reply": "2025-01-24T15:12:56.449093Z",
     "shell.execute_reply.started": "2025-01-24T15:12:56.415738Z"
    },
    "trusted": true
   },
   "outputs": [
    {
     "data": {
      "image/svg+xml": [
       "<svg xmlns=\"http://www.w3.org/2000/svg\" xmlns:xlink=\"http://www.w3.org/1999/xlink\" width=\"1679pt\" height=\"294pt\" viewBox=\"0.00 0.00 1679.00 294.00\">\n",
       "<g id=\"graph0\" class=\"graph\" transform=\"scale(1 1) rotate(0) translate(4 290)\">\n",
       "<title>polars_query</title>\n",
       "<polygon fill=\"white\" stroke=\"transparent\" points=\"-4,4 -4,-290 1675,-290 1675,4 -4,4\"/>\n",
       "<!-- p1 -->\n",
       "<g id=\"node1\" class=\"node\">\n",
       "<title>p1</title>\n",
       "<polygon fill=\"none\" stroke=\"black\" points=\"1671,-286 0,-286 0,-233 1671,-233 1671,-286\"/>\n",
       "<text text-anchor=\"middle\" x=\"835.5\" y=\"-270.8\" font-family=\"Times,serif\" font-size=\"14.00\">AGG [col(&quot;responder_0_lag_1&quot;).last(), col(&quot;responder_1_lag_1&quot;).last(), col(&quot;responder_2_lag_1&quot;).last(), col(&quot;responder_3_lag_1&quot;).last(), col(&quot;responder_4_lag_1&quot;).last(), col(&quot;responder_5_lag_1&quot;).last(), col(&quot;responder_6_lag_1&quot;).last(), col(&quot;responder_7_lag_1&quot;).last(), col(&quot;responder_8_lag_1&quot;).last()]</text>\n",
       "<text text-anchor=\"middle\" x=\"835.5\" y=\"-255.8\" font-family=\"Times,serif\" font-size=\"14.00\">BY</text>\n",
       "<text text-anchor=\"middle\" x=\"835.5\" y=\"-240.8\" font-family=\"Times,serif\" font-size=\"14.00\">[col(&quot;date_id&quot;), col(&quot;symbol_id&quot;)]</text>\n",
       "</g>\n",
       "<!-- p2 -->\n",
       "<g id=\"node2\" class=\"node\">\n",
       "<title>p2</title>\n",
       "<polygon fill=\"none\" stroke=\"black\" points=\"1011.5,-197 659.5,-197 659.5,-161 1011.5,-161 1011.5,-197\"/>\n",
       "<text text-anchor=\"middle\" x=\"835.5\" y=\"-175.3\" font-family=\"Times,serif\" font-size=\"14.00\">WITH COLUMNS [[(col(&quot;date_id&quot;)) + (1)].alias(&quot;date_id&quot;)]</text>\n",
       "</g>\n",
       "<!-- p1&#45;&#45;p2 -->\n",
       "<g id=\"edge1\" class=\"edge\">\n",
       "<title>p1--p2</title>\n",
       "<path fill=\"none\" stroke=\"black\" d=\"M835.5,-232.8C835.5,-221.17 835.5,-207.74 835.5,-197.33\"/>\n",
       "</g>\n",
       "<!-- p3 -->\n",
       "<g id=\"node3\" class=\"node\">\n",
       "<title>p3</title>\n",
       "<polygon fill=\"none\" stroke=\"black\" points=\"872.5,-125 798.5,-125 798.5,-89 872.5,-89 872.5,-125\"/>\n",
       "<text text-anchor=\"middle\" x=\"835.5\" y=\"-103.3\" font-family=\"Times,serif\" font-size=\"14.00\">RENAME</text>\n",
       "</g>\n",
       "<!-- p2&#45;&#45;p3 -->\n",
       "<g id=\"edge2\" class=\"edge\">\n",
       "<title>p2--p3</title>\n",
       "<path fill=\"none\" stroke=\"black\" d=\"M835.5,-160.7C835.5,-149.85 835.5,-135.92 835.5,-125.1\"/>\n",
       "</g>\n",
       "<!-- p4 -->\n",
       "<g id=\"node4\" class=\"node\">\n",
       "<title>p4</title>\n",
       "<polygon fill=\"none\" stroke=\"black\" points=\"1220.5,-53 450.5,-53 450.5,0 1220.5,0 1220.5,-53\"/>\n",
       "<text text-anchor=\"middle\" x=\"835.5\" y=\"-37.8\" font-family=\"Times,serif\" font-size=\"14.00\">Parquet SCAN [/kaggle/input/jane-street-real-time-market-data-forecasting/train.parquet/partition_id=0/part-0.parquet, ... 9 other sources]</text>\n",
       "<text text-anchor=\"middle\" x=\"835.5\" y=\"-22.8\" font-family=\"Times,serif\" font-size=\"14.00\">π 11/93;</text>\n",
       "<text text-anchor=\"middle\" x=\"835.5\" y=\"-7.8\" font-family=\"Times,serif\" font-size=\"14.00\">σ [(col(&quot;date_id&quot;)) &gt; (1448)]</text>\n",
       "</g>\n",
       "<!-- p3&#45;&#45;p4 -->\n",
       "<g id=\"edge3\" class=\"edge\">\n",
       "<title>p3--p4</title>\n",
       "<path fill=\"none\" stroke=\"black\" d=\"M835.5,-88.97C835.5,-78.51 835.5,-64.9 835.5,-53.16\"/>\n",
       "</g>\n",
       "</g>\n",
       "</svg>"
      ],
      "text/plain": [
       "<IPython.core.display.SVG object>"
      ]
     },
     "metadata": {},
     "output_type": "display_data"
    }
   ],
   "source": [
    "lags = train.select(pl.col(lags_cols))\n",
    "lags_cols_rename = { f\"responder_{idx}\" : f\"responder_{idx}_lag_1\" for idx in range(9)}\n",
    "lags = lags.rename(lags_cols_rename)\n",
    "lags = lags.with_columns(\n",
    "    date_id = pl.col('date_id') + 1,  # 1 day lag\n",
    "    )\n",
    "lags = lags.group_by([\"date_id\", \"symbol_id\"], maintain_order=True).last()  # pick up last record of previous date\n",
    "lags.show_graph()"
   ]
  },
  {
   "cell_type": "code",
   "execution_count": 6,
   "metadata": {
    "execution": {
     "iopub.execute_input": "2025-01-24T15:12:56.451691Z",
     "iopub.status.busy": "2025-01-24T15:12:56.451379Z",
     "iopub.status.idle": "2025-01-24T15:12:56.487716Z",
     "shell.execute_reply": "2025-01-24T15:12:56.486882Z",
     "shell.execute_reply.started": "2025-01-24T15:12:56.451662Z"
    },
    "trusted": true
   },
   "outputs": [
    {
     "data": {
      "image/svg+xml": [
       "<svg xmlns=\"http://www.w3.org/2000/svg\" xmlns:xlink=\"http://www.w3.org/1999/xlink\" width=\"2519pt\" height=\"730pt\" viewBox=\"0.00 0.00 2518.50 730.00\">\n",
       "<g id=\"graph0\" class=\"graph\" transform=\"scale(1 1) rotate(0) translate(4 726)\">\n",
       "<title>polars_query</title>\n",
       "<polygon fill=\"white\" stroke=\"transparent\" points=\"-4,4 -4,-726 2514.5,-726 2514.5,4 -4,4\"/>\n",
       "<!-- p1 -->\n",
       "<g id=\"node1\" class=\"node\">\n",
       "<title>p1</title>\n",
       "<polygon fill=\"none\" stroke=\"black\" points=\"1362.5,-722 1123.5,-722 1123.5,-669 1362.5,-669 1362.5,-722\"/>\n",
       "<text text-anchor=\"middle\" x=\"1243\" y=\"-706.8\" font-family=\"Times,serif\" font-size=\"14.00\">JOIN LEFT</text>\n",
       "<text text-anchor=\"middle\" x=\"1243\" y=\"-691.8\" font-family=\"Times,serif\" font-size=\"14.00\">left: [col(&quot;date_id&quot;), col(&quot;symbol_id&quot;)];</text>\n",
       "<text text-anchor=\"middle\" x=\"1243\" y=\"-676.8\" font-family=\"Times,serif\" font-size=\"14.00\">right: [col(&quot;date_id&quot;), col(&quot;symbol_id&quot;)]</text>\n",
       "</g>\n",
       "<!-- c0 -->\n",
       "<g id=\"node2\" class=\"node\">\n",
       "<title>c0</title>\n",
       "<polygon fill=\"none\" stroke=\"black\" points=\"946,-326 836,-326 836,-290 946,-290 946,-326\"/>\n",
       "<text text-anchor=\"middle\" x=\"891\" y=\"-304.3\" font-family=\"Times,serif\" font-size=\"14.00\">CACHE: 1 times</text>\n",
       "</g>\n",
       "<!-- p1&#45;&#45;c0 -->\n",
       "<g id=\"edge1\" class=\"edge\">\n",
       "<title>p1--c0</title>\n",
       "<path fill=\"none\" stroke=\"black\" d=\"M1123.28,-691.78C1016.45,-686.75 870.76,-672.58 830,-633 795.66,-599.66 811,-574.86 811,-527 811,-527 811,-527 811,-453 811,-401.81 850.11,-351.8 873.64,-326.35\"/>\n",
       "</g>\n",
       "<!-- p6 -->\n",
       "<g id=\"node7\" class=\"node\">\n",
       "<title>p6</title>\n",
       "<polygon fill=\"none\" stroke=\"black\" points=\"2510.5,-633 839.5,-633 839.5,-580 2510.5,-580 2510.5,-633\"/>\n",
       "<text text-anchor=\"middle\" x=\"1675\" y=\"-617.8\" font-family=\"Times,serif\" font-size=\"14.00\">AGG [col(&quot;responder_0_lag_1&quot;).last(), col(&quot;responder_1_lag_1&quot;).last(), col(&quot;responder_2_lag_1&quot;).last(), col(&quot;responder_3_lag_1&quot;).last(), col(&quot;responder_4_lag_1&quot;).last(), col(&quot;responder_5_lag_1&quot;).last(), col(&quot;responder_6_lag_1&quot;).last(), col(&quot;responder_7_lag_1&quot;).last(), col(&quot;responder_8_lag_1&quot;).last()]</text>\n",
       "<text text-anchor=\"middle\" x=\"1675\" y=\"-602.8\" font-family=\"Times,serif\" font-size=\"14.00\">BY</text>\n",
       "<text text-anchor=\"middle\" x=\"1675\" y=\"-587.8\" font-family=\"Times,serif\" font-size=\"14.00\">[col(&quot;date_id&quot;), col(&quot;symbol_id&quot;)]</text>\n",
       "</g>\n",
       "<!-- p1&#45;&#45;p6 -->\n",
       "<g id=\"edge6\" class=\"edge\">\n",
       "<title>p1--p6</title>\n",
       "<path fill=\"none\" stroke=\"black\" d=\"M1362.76,-670.38C1420.44,-658.76 1489.63,-644.83 1548.21,-633.03\"/>\n",
       "</g>\n",
       "<!-- p2 -->\n",
       "<g id=\"node3\" class=\"node\">\n",
       "<title>p2</title>\n",
       "<polygon fill=\"none\" stroke=\"black\" points=\"882,-254 412,-254 412,-218 882,-218 882,-254\"/>\n",
       "<text text-anchor=\"middle\" x=\"647\" y=\"-232.3\" font-family=\"Times,serif\" font-size=\"14.00\">WITH COLUMNS [[(col(&quot;responder_6&quot;)) * (2.0)].strict_cast(Int32).alias(&quot;label&quot;)]</text>\n",
       "</g>\n",
       "<!-- c0&#45;&#45;p2 -->\n",
       "<g id=\"edge2\" class=\"edge\">\n",
       "<title>c0--p2</title>\n",
       "<path fill=\"none\" stroke=\"black\" d=\"M835.94,-291.2C797.42,-280.15 746.02,-265.41 706.56,-254.09\"/>\n",
       "</g>\n",
       "<!-- p10 -->\n",
       "<g id=\"node11\" class=\"node\">\n",
       "<title>p10</title>\n",
       "<polygon fill=\"none\" stroke=\"black\" points=\"1389,-254 919,-254 919,-218 1389,-218 1389,-254\"/>\n",
       "<text text-anchor=\"middle\" x=\"1154\" y=\"-232.3\" font-family=\"Times,serif\" font-size=\"14.00\">WITH COLUMNS [[(col(&quot;responder_6&quot;)) * (2.0)].strict_cast(Int32).alias(&quot;label&quot;)]</text>\n",
       "</g>\n",
       "<!-- c0&#45;&#45;p10 -->\n",
       "<g id=\"edge11\" class=\"edge\">\n",
       "<title>c0--p10</title>\n",
       "<path fill=\"none\" stroke=\"black\" d=\"M946.13,-292.33C988.01,-281.18 1045.69,-265.83 1089.67,-254.12\"/>\n",
       "</g>\n",
       "<!-- p3 -->\n",
       "<g id=\"node4\" class=\"node\">\n",
       "<title>p3</title>\n",
       "<polygon fill=\"none\" stroke=\"black\" points=\"614.5,-182 379.5,-182 379.5,-146 614.5,-146 614.5,-182\"/>\n",
       "<text text-anchor=\"middle\" x=\"497\" y=\"-160.3\" font-family=\"Times,serif\" font-size=\"14.00\">FILTER BY [(col(&quot;date_id&quot;)) &gt; (1448)]</text>\n",
       "</g>\n",
       "<!-- p2&#45;&#45;p3 -->\n",
       "<g id=\"edge3\" class=\"edge\">\n",
       "<title>p2--p3</title>\n",
       "<path fill=\"none\" stroke=\"black\" d=\"M610.31,-217.88C586.97,-206.99 556.88,-192.95 533.57,-182.07\"/>\n",
       "</g>\n",
       "<!-- p4 -->\n",
       "<g id=\"node5\" class=\"node\">\n",
       "<title>p4</title>\n",
       "<polygon fill=\"none\" stroke=\"black\" points=\"451,-110 393,-110 393,-74 451,-74 451,-110\"/>\n",
       "<text text-anchor=\"middle\" x=\"422\" y=\"-88.3\" font-family=\"Times,serif\" font-size=\"14.00\">π 94/94</text>\n",
       "</g>\n",
       "<!-- p3&#45;&#45;p4 -->\n",
       "<g id=\"edge4\" class=\"edge\">\n",
       "<title>p3--p4</title>\n",
       "<path fill=\"none\" stroke=\"black\" d=\"M478.46,-145.7C466.84,-134.85 451.91,-120.92 440.33,-110.1\"/>\n",
       "</g>\n",
       "<!-- p5 -->\n",
       "<g id=\"node6\" class=\"node\">\n",
       "<title>p5</title>\n",
       "<polygon fill=\"none\" stroke=\"black\" points=\"770,-38 0,-38 0,0 770,0 770,-38\"/>\n",
       "<text text-anchor=\"middle\" x=\"385\" y=\"-22.8\" font-family=\"Times,serif\" font-size=\"14.00\">Parquet SCAN [/kaggle/input/jane-street-real-time-market-data-forecasting/train.parquet/partition_id=0/part-0.parquet, ... 9 other sources]</text>\n",
       "<text text-anchor=\"middle\" x=\"385\" y=\"-7.8\" font-family=\"Times,serif\" font-size=\"14.00\">π 92/93;</text>\n",
       "</g>\n",
       "<!-- p4&#45;&#45;p5 -->\n",
       "<g id=\"edge5\" class=\"edge\">\n",
       "<title>p4--p5</title>\n",
       "<path fill=\"none\" stroke=\"black\" d=\"M413.04,-73.81C407.4,-62.98 400.12,-49.01 394.39,-38.02\"/>\n",
       "</g>\n",
       "<!-- p7 -->\n",
       "<g id=\"node8\" class=\"node\">\n",
       "<title>p7</title>\n",
       "<polygon fill=\"none\" stroke=\"black\" points=\"1521,-544 1169,-544 1169,-508 1521,-508 1521,-544\"/>\n",
       "<text text-anchor=\"middle\" x=\"1345\" y=\"-522.3\" font-family=\"Times,serif\" font-size=\"14.00\">WITH COLUMNS [[(col(&quot;date_id&quot;)) + (1)].alias(&quot;date_id&quot;)]</text>\n",
       "</g>\n",
       "<!-- p6&#45;&#45;p7 -->\n",
       "<g id=\"edge7\" class=\"edge\">\n",
       "<title>p6--p7</title>\n",
       "<path fill=\"none\" stroke=\"black\" d=\"M1567.4,-579.9C1517.94,-568.14 1460.61,-554.5 1416.54,-544.02\"/>\n",
       "</g>\n",
       "<!-- p8 -->\n",
       "<g id=\"node9\" class=\"node\">\n",
       "<title>p8</title>\n",
       "<polygon fill=\"none\" stroke=\"black\" points=\"1288,-472 1214,-472 1214,-436 1288,-436 1288,-472\"/>\n",
       "<text text-anchor=\"middle\" x=\"1251\" y=\"-450.3\" font-family=\"Times,serif\" font-size=\"14.00\">RENAME</text>\n",
       "</g>\n",
       "<!-- p7&#45;&#45;p8 -->\n",
       "<g id=\"edge8\" class=\"edge\">\n",
       "<title>p7--p8</title>\n",
       "<path fill=\"none\" stroke=\"black\" d=\"M1321.76,-507.7C1307.19,-496.85 1288.49,-482.92 1273.97,-472.1\"/>\n",
       "</g>\n",
       "<!-- p9 -->\n",
       "<g id=\"node10\" class=\"node\">\n",
       "<title>p9</title>\n",
       "<polygon fill=\"none\" stroke=\"black\" points=\"1291,-400 1025,-400 1025,-362 1291,-362 1291,-400\"/>\n",
       "<text text-anchor=\"middle\" x=\"1158\" y=\"-384.8\" font-family=\"Times,serif\" font-size=\"14.00\">simple π 11/95</text>\n",
       "<text text-anchor=\"middle\" x=\"1158\" y=\"-369.8\" font-family=\"Times,serif\" font-size=\"14.00\">[&quot;date_id&quot;, &quot;symbol_id&quot;, ... 9 other columns]</text>\n",
       "</g>\n",
       "<!-- p8&#45;&#45;p9 -->\n",
       "<g id=\"edge9\" class=\"edge\">\n",
       "<title>p8--p9</title>\n",
       "<path fill=\"none\" stroke=\"black\" d=\"M1228.49,-435.81C1214.3,-424.98 1196,-411.01 1181.6,-400.02\"/>\n",
       "</g>\n",
       "<!-- p9&#45;&#45;c0 -->\n",
       "<g id=\"edge10\" class=\"edge\">\n",
       "<title>p9--c0</title>\n",
       "<path fill=\"none\" stroke=\"black\" d=\"M1090.28,-361.99C1045.63,-350.12 987.89,-334.77 946.07,-323.64\"/>\n",
       "</g>\n",
       "<!-- p11 -->\n",
       "<g id=\"node12\" class=\"node\">\n",
       "<title>p11</title>\n",
       "<polygon fill=\"none\" stroke=\"black\" points=\"1280.5,-182 1045.5,-182 1045.5,-146 1280.5,-146 1280.5,-182\"/>\n",
       "<text text-anchor=\"middle\" x=\"1163\" y=\"-160.3\" font-family=\"Times,serif\" font-size=\"14.00\">FILTER BY [(col(&quot;date_id&quot;)) &gt; (1448)]</text>\n",
       "</g>\n",
       "<!-- p10&#45;&#45;p11 -->\n",
       "<g id=\"edge12\" class=\"edge\">\n",
       "<title>p10--p11</title>\n",
       "<path fill=\"none\" stroke=\"black\" d=\"M1156.22,-217.7C1157.62,-206.85 1159.41,-192.92 1160.8,-182.1\"/>\n",
       "</g>\n",
       "<!-- p12 -->\n",
       "<g id=\"node13\" class=\"node\">\n",
       "<title>p12</title>\n",
       "<polygon fill=\"none\" stroke=\"black\" points=\"1197,-110 1139,-110 1139,-74 1197,-74 1197,-110\"/>\n",
       "<text text-anchor=\"middle\" x=\"1168\" y=\"-88.3\" font-family=\"Times,serif\" font-size=\"14.00\">π 94/94</text>\n",
       "</g>\n",
       "<!-- p11&#45;&#45;p12 -->\n",
       "<g id=\"edge13\" class=\"edge\">\n",
       "<title>p11--p12</title>\n",
       "<path fill=\"none\" stroke=\"black\" d=\"M1164.24,-145.7C1165.01,-134.85 1166.01,-120.92 1166.78,-110.1\"/>\n",
       "</g>\n",
       "<!-- p13 -->\n",
       "<g id=\"node14\" class=\"node\">\n",
       "<title>p13</title>\n",
       "<polygon fill=\"none\" stroke=\"black\" points=\"1558,-38 788,-38 788,0 1558,0 1558,-38\"/>\n",
       "<text text-anchor=\"middle\" x=\"1173\" y=\"-22.8\" font-family=\"Times,serif\" font-size=\"14.00\">Parquet SCAN [/kaggle/input/jane-street-real-time-market-data-forecasting/train.parquet/partition_id=0/part-0.parquet, ... 9 other sources]</text>\n",
       "<text text-anchor=\"middle\" x=\"1173\" y=\"-7.8\" font-family=\"Times,serif\" font-size=\"14.00\">π 92/93;</text>\n",
       "</g>\n",
       "<!-- p12&#45;&#45;p13 -->\n",
       "<g id=\"edge14\" class=\"edge\">\n",
       "<title>p12--p13</title>\n",
       "<path fill=\"none\" stroke=\"black\" d=\"M1169.21,-73.81C1169.97,-62.98 1170.96,-49.01 1171.73,-38.02\"/>\n",
       "</g>\n",
       "</g>\n",
       "</svg>"
      ],
      "text/plain": [
       "<IPython.core.display.SVG object>"
      ]
     },
     "metadata": {},
     "output_type": "display_data"
    }
   ],
   "source": [
    "train = train.join(lags, on=[\"date_id\", \"symbol_id\"],  how=\"left\")\n",
    "train.show_graph()"
   ]
  },
  {
   "cell_type": "code",
   "execution_count": 7,
   "metadata": {
    "execution": {
     "iopub.execute_input": "2025-01-24T15:12:56.488956Z",
     "iopub.status.busy": "2025-01-24T15:12:56.488633Z",
     "iopub.status.idle": "2025-01-24T15:14:32.623932Z",
     "shell.execute_reply": "2025-01-24T15:14:32.622945Z",
     "shell.execute_reply.started": "2025-01-24T15:12:56.488926Z"
    },
    "trusted": true
   },
   "outputs": [
    {
     "name": "stdout",
     "output_type": "stream",
     "text": [
      "len_set=9217296\n",
      "len_train=8756432\n",
      "Last offline train date = 1686\n",
      "\n"
     ]
    }
   ],
   "source": [
    "len_set   = train.select(pl.col(\"date_id\")).collect().shape[0]\n",
    "len_validation = int(len_set * validation_ratio)\n",
    "len_train = len_set - len_validation\n",
    "last_train_date  = train.select(pl.col(\"date_id\")).collect().row(len_train)[0]\n",
    "\n",
    "print(f\"{len_set=}\")\n",
    "print(f\"{len_train=}\")\n",
    "print(f\"Last offline train date = {last_train_date}\\n\")\n",
    "\n",
    "training_data = train.filter(pl.col(\"date_id\").le(last_train_date)).collect()\n",
    "validation_data = train.filter(pl.col(\"date_id\").gt(last_train_date)).collect()"
   ]
  },
  {
   "cell_type": "code",
   "execution_count": 8,
   "metadata": {
    "execution": {
     "iopub.execute_input": "2025-01-24T15:14:32.624982Z",
     "iopub.status.busy": "2025-01-24T15:14:32.624742Z",
     "iopub.status.idle": "2025-01-24T15:14:32.642607Z",
     "shell.execute_reply": "2025-01-24T15:14:32.641641Z",
     "shell.execute_reply.started": "2025-01-24T15:14:32.624962Z"
    },
    "trusted": true
   },
   "outputs": [
    {
     "data": {
      "text/plain": [
       "((8765240, 90), (8765240,), (8765240,), (452056, 90), (452056,), (452056,))"
      ]
     },
     "execution_count": 8,
     "metadata": {},
     "output_type": "execute_result"
    }
   ],
   "source": [
    "X_train = training_data[features]\n",
    "y_train = training_data[target]\n",
    "w_train = training_data[\"weight\"]\n",
    "X_val = validation_data[features ]\n",
    "y_val = validation_data[target ]\n",
    "w_val = validation_data[\"weight\"]\n",
    "X_train.shape, y_train.shape, w_train.shape, X_val.shape, y_val.shape, w_val.shape"
   ]
  },
  {
   "cell_type": "code",
   "execution_count": 9,
   "metadata": {
    "execution": {
     "iopub.execute_input": "2025-01-24T15:14:32.644288Z",
     "iopub.status.busy": "2025-01-24T15:14:32.643842Z",
     "iopub.status.idle": "2025-01-24T15:14:32.657404Z",
     "shell.execute_reply": "2025-01-24T15:14:32.656450Z",
     "shell.execute_reply.started": "2025-01-24T15:14:32.644253Z"
    },
    "trusted": true
   },
   "outputs": [],
   "source": [
    "def objective(trial):\n",
    "    params = {\n",
    "        \"objective\": \"reg:squarederror\",\n",
    "        \"n_estimators\": 200,\n",
    "        \"verbosity\": 0,\n",
    "        'tree_method': 'gpu_hist',\n",
    "        'device' : 'cuda',\n",
    "        'n_gpus' : 2,\n",
    "        \"learning_rate\": trial.suggest_float(\"learning_rate\", 1e-3, 0.1, log=True),\n",
    "        \"max_depth\": trial.suggest_int(\"max_depth\", 1, 10),\n",
    "        \"subsample\": trial.suggest_float(\"subsample\", 0.05, 1.0),\n",
    "        \"colsample_bytree\": trial.suggest_float(\"colsample_bytree\", 0.05, 1.0),\n",
    "    }\n",
    "\n",
    "    model = xgb.XGBRegressor(**params)\n",
    "    model.fit(X_train, y_train, verbose=False)\n",
    "    predictions = model.predict(X_val)\n",
    "    score = r2_score(y_val, predictions, sample_weight=w_val)\n",
    "    return score"
   ]
  },
  {
   "cell_type": "code",
   "execution_count": 10,
   "metadata": {
    "execution": {
     "iopub.execute_input": "2025-01-24T15:14:32.658851Z",
     "iopub.status.busy": "2025-01-24T15:14:32.658482Z",
     "iopub.status.idle": "2025-01-24T15:14:32.669472Z",
     "shell.execute_reply": "2025-01-24T15:14:32.668237Z",
     "shell.execute_reply.started": "2025-01-24T15:14:32.658821Z"
    },
    "trusted": true
   },
   "outputs": [],
   "source": [
    "OPTUNA=False\n",
    "\n",
    "if OPTUNA:\n",
    "    study = optuna.create_study(direction='maximize')\n",
    "    study.optimize(objective, n_trials=30)"
   ]
  },
  {
   "cell_type": "code",
   "execution_count": 11,
   "metadata": {
    "execution": {
     "iopub.execute_input": "2025-01-24T15:14:32.670721Z",
     "iopub.status.busy": "2025-01-24T15:14:32.670439Z",
     "iopub.status.idle": "2025-01-24T15:14:32.682726Z",
     "shell.execute_reply": "2025-01-24T15:14:32.681867Z",
     "shell.execute_reply.started": "2025-01-24T15:14:32.670698Z"
    },
    "trusted": true
   },
   "outputs": [],
   "source": [
    "XGB_Params = {\n",
    "        'learning_rate': 0.05,\n",
    "        'max_depth': 6,\n",
    "        'n_estimators': 200,\n",
    "        'subsample': 0.8,\n",
    "        'colsample_bytree': 0.8,\n",
    "        'reg_alpha': 1,\n",
    "        'reg_lambda': 5,\n",
    "        'random_state': SEED,\n",
    "        'tree_method': 'gpu_hist',\n",
    "        'device' : 'cuda',\n",
    "        'n_gpus' : 2,\n",
    "    }"
   ]
  },
  {
   "cell_type": "code",
   "execution_count": 12,
   "metadata": {
    "execution": {
     "iopub.execute_input": "2025-01-24T15:14:32.683640Z",
     "iopub.status.busy": "2025-01-24T15:14:32.683437Z",
     "iopub.status.idle": "2025-01-24T15:15:45.384641Z",
     "shell.execute_reply": "2025-01-24T15:15:45.383850Z",
     "shell.execute_reply.started": "2025-01-24T15:14:32.683621Z"
    },
    "trusted": true
   },
   "outputs": [
    {
     "name": "stderr",
     "output_type": "stream",
     "text": [
      "/usr/local/lib/python3.10/dist-packages/xgboost/core.py:160: UserWarning: [15:14:47] WARNING: /workspace/src/common/error_msg.cc:27: The tree method `gpu_hist` is deprecated since 2.0.0. To use GPU training, set the `device` parameter to CUDA instead.\n",
      "\n",
      "    E.g. tree_method = \"hist\", device = \"cuda\"\n",
      "\n",
      "  warnings.warn(smsg, UserWarning)\n",
      "/usr/local/lib/python3.10/dist-packages/xgboost/core.py:160: UserWarning: [15:14:47] WARNING: /workspace/src/learner.cc:742: \n",
      "Parameters: { \"n_gpus\" } are not used.\n",
      "\n",
      "  warnings.warn(smsg, UserWarning)\n"
     ]
    },
    {
     "name": "stdout",
     "output_type": "stream",
     "text": [
      "CPU times: user 1min 25s, sys: 8.82 s, total: 1min 34s\n",
      "Wall time: 1min 12s\n"
     ]
    },
    {
     "data": {
      "text/html": [
       "<style>#sk-container-id-1 {color: black;background-color: white;}#sk-container-id-1 pre{padding: 0;}#sk-container-id-1 div.sk-toggleable {background-color: white;}#sk-container-id-1 label.sk-toggleable__label {cursor: pointer;display: block;width: 100%;margin-bottom: 0;padding: 0.3em;box-sizing: border-box;text-align: center;}#sk-container-id-1 label.sk-toggleable__label-arrow:before {content: \"▸\";float: left;margin-right: 0.25em;color: #696969;}#sk-container-id-1 label.sk-toggleable__label-arrow:hover:before {color: black;}#sk-container-id-1 div.sk-estimator:hover label.sk-toggleable__label-arrow:before {color: black;}#sk-container-id-1 div.sk-toggleable__content {max-height: 0;max-width: 0;overflow: hidden;text-align: left;background-color: #f0f8ff;}#sk-container-id-1 div.sk-toggleable__content pre {margin: 0.2em;color: black;border-radius: 0.25em;background-color: #f0f8ff;}#sk-container-id-1 input.sk-toggleable__control:checked~div.sk-toggleable__content {max-height: 200px;max-width: 100%;overflow: auto;}#sk-container-id-1 input.sk-toggleable__control:checked~label.sk-toggleable__label-arrow:before {content: \"▾\";}#sk-container-id-1 div.sk-estimator input.sk-toggleable__control:checked~label.sk-toggleable__label {background-color: #d4ebff;}#sk-container-id-1 div.sk-label input.sk-toggleable__control:checked~label.sk-toggleable__label {background-color: #d4ebff;}#sk-container-id-1 input.sk-hidden--visually {border: 0;clip: rect(1px 1px 1px 1px);clip: rect(1px, 1px, 1px, 1px);height: 1px;margin: -1px;overflow: hidden;padding: 0;position: absolute;width: 1px;}#sk-container-id-1 div.sk-estimator {font-family: monospace;background-color: #f0f8ff;border: 1px dotted black;border-radius: 0.25em;box-sizing: border-box;margin-bottom: 0.5em;}#sk-container-id-1 div.sk-estimator:hover {background-color: #d4ebff;}#sk-container-id-1 div.sk-parallel-item::after {content: \"\";width: 100%;border-bottom: 1px solid gray;flex-grow: 1;}#sk-container-id-1 div.sk-label:hover label.sk-toggleable__label {background-color: #d4ebff;}#sk-container-id-1 div.sk-serial::before {content: \"\";position: absolute;border-left: 1px solid gray;box-sizing: border-box;top: 0;bottom: 0;left: 50%;z-index: 0;}#sk-container-id-1 div.sk-serial {display: flex;flex-direction: column;align-items: center;background-color: white;padding-right: 0.2em;padding-left: 0.2em;position: relative;}#sk-container-id-1 div.sk-item {position: relative;z-index: 1;}#sk-container-id-1 div.sk-parallel {display: flex;align-items: stretch;justify-content: center;background-color: white;position: relative;}#sk-container-id-1 div.sk-item::before, #sk-container-id-1 div.sk-parallel-item::before {content: \"\";position: absolute;border-left: 1px solid gray;box-sizing: border-box;top: 0;bottom: 0;left: 50%;z-index: -1;}#sk-container-id-1 div.sk-parallel-item {display: flex;flex-direction: column;z-index: 1;position: relative;background-color: white;}#sk-container-id-1 div.sk-parallel-item:first-child::after {align-self: flex-end;width: 50%;}#sk-container-id-1 div.sk-parallel-item:last-child::after {align-self: flex-start;width: 50%;}#sk-container-id-1 div.sk-parallel-item:only-child::after {width: 0;}#sk-container-id-1 div.sk-dashed-wrapped {border: 1px dashed gray;margin: 0 0.4em 0.5em 0.4em;box-sizing: border-box;padding-bottom: 0.4em;background-color: white;}#sk-container-id-1 div.sk-label label {font-family: monospace;font-weight: bold;display: inline-block;line-height: 1.2em;}#sk-container-id-1 div.sk-label-container {text-align: center;}#sk-container-id-1 div.sk-container {/* jupyter's `normalize.less` sets `[hidden] { display: none; }` but bootstrap.min.css set `[hidden] { display: none !important; }` so we also need the `!important` here to be able to override the default hidden behavior on the sphinx rendered scikit-learn.org. See: https://github.com/scikit-learn/scikit-learn/issues/21755 */display: inline-block !important;position: relative;}#sk-container-id-1 div.sk-text-repr-fallback {display: none;}</style><div id=\"sk-container-id-1\" class=\"sk-top-container\"><div class=\"sk-text-repr-fallback\"><pre>XGBRegressor(base_score=None, booster=None, callbacks=None,\n",
       "             colsample_bylevel=None, colsample_bynode=None,\n",
       "             colsample_bytree=0.8, device=&#x27;cuda&#x27;, early_stopping_rounds=None,\n",
       "             enable_categorical=False, eval_metric=None, feature_types=None,\n",
       "             gamma=None, grow_policy=None, importance_type=None,\n",
       "             interaction_constraints=None, learning_rate=0.05, max_bin=None,\n",
       "             max_cat_threshold=None, max_cat_to_onehot=None,\n",
       "             max_delta_step=None, max_depth=6, max_leaves=None,\n",
       "             min_child_weight=None, missing=nan, monotone_constraints=None,\n",
       "             multi_strategy=None, n_estimators=200, n_gpus=2, n_jobs=None,\n",
       "             num_parallel_tree=None, ...)</pre><b>In a Jupyter environment, please rerun this cell to show the HTML representation or trust the notebook. <br />On GitHub, the HTML representation is unable to render, please try loading this page with nbviewer.org.</b></div><div class=\"sk-container\" hidden><div class=\"sk-item\"><div class=\"sk-estimator sk-toggleable\"><input class=\"sk-toggleable__control sk-hidden--visually\" id=\"sk-estimator-id-1\" type=\"checkbox\" checked><label for=\"sk-estimator-id-1\" class=\"sk-toggleable__label sk-toggleable__label-arrow\">XGBRegressor</label><div class=\"sk-toggleable__content\"><pre>XGBRegressor(base_score=None, booster=None, callbacks=None,\n",
       "             colsample_bylevel=None, colsample_bynode=None,\n",
       "             colsample_bytree=0.8, device=&#x27;cuda&#x27;, early_stopping_rounds=None,\n",
       "             enable_categorical=False, eval_metric=None, feature_types=None,\n",
       "             gamma=None, grow_policy=None, importance_type=None,\n",
       "             interaction_constraints=None, learning_rate=0.05, max_bin=None,\n",
       "             max_cat_threshold=None, max_cat_to_onehot=None,\n",
       "             max_delta_step=None, max_depth=6, max_leaves=None,\n",
       "             min_child_weight=None, missing=nan, monotone_constraints=None,\n",
       "             multi_strategy=None, n_estimators=200, n_gpus=2, n_jobs=None,\n",
       "             num_parallel_tree=None, ...)</pre></div></div></div></div></div>"
      ],
      "text/plain": [
       "XGBRegressor(base_score=None, booster=None, callbacks=None,\n",
       "             colsample_bylevel=None, colsample_bynode=None,\n",
       "             colsample_bytree=0.8, device='cuda', early_stopping_rounds=None,\n",
       "             enable_categorical=False, eval_metric=None, feature_types=None,\n",
       "             gamma=None, grow_policy=None, importance_type=None,\n",
       "             interaction_constraints=None, learning_rate=0.05, max_bin=None,\n",
       "             max_cat_threshold=None, max_cat_to_onehot=None,\n",
       "             max_delta_step=None, max_depth=6, max_leaves=None,\n",
       "             min_child_weight=None, missing=nan, monotone_constraints=None,\n",
       "             multi_strategy=None, n_estimators=200, n_gpus=2, n_jobs=None,\n",
       "             num_parallel_tree=None, ...)"
      ]
     },
     "execution_count": 12,
     "metadata": {},
     "output_type": "execute_result"
    }
   ],
   "source": [
    "%%time\n",
    "model = XGBRegressor(**XGB_Params)\n",
    "model.fit( X_train, y_train, sample_weight=w_train)"
   ]
  },
  {
   "cell_type": "code",
   "execution_count": 13,
   "metadata": {
    "execution": {
     "iopub.execute_input": "2025-01-24T15:15:45.385583Z",
     "iopub.status.busy": "2025-01-24T15:15:45.385363Z",
     "iopub.status.idle": "2025-01-24T15:16:01.411260Z",
     "shell.execute_reply": "2025-01-24T15:16:01.410504Z",
     "shell.execute_reply.started": "2025-01-24T15:15:45.385564Z"
    },
    "trusted": true
   },
   "outputs": [
    {
     "name": "stderr",
     "output_type": "stream",
     "text": [
      "/usr/local/lib/python3.10/dist-packages/xgboost/core.py:160: UserWarning: [15:15:45] WARNING: /workspace/src/common/error_msg.cc:27: The tree method `gpu_hist` is deprecated since 2.0.0. To use GPU training, set the `device` parameter to CUDA instead.\n",
      "\n",
      "    E.g. tree_method = \"hist\", device = \"cuda\"\n",
      "\n",
      "  warnings.warn(smsg, UserWarning)\n"
     ]
    },
    {
     "data": {
      "text/plain": [
       "0.05998816923418093"
      ]
     },
     "execution_count": 13,
     "metadata": {},
     "output_type": "execute_result"
    }
   ],
   "source": [
    "y_pred=model.predict(X_train)\n",
    "train_score = r2_score(y_train, y_pred, sample_weight=w_train)\n",
    "train_score"
   ]
  },
  {
   "cell_type": "code",
   "execution_count": 14,
   "metadata": {
    "execution": {
     "iopub.execute_input": "2025-01-24T15:16:01.413464Z",
     "iopub.status.busy": "2025-01-24T15:16:01.413239Z",
     "iopub.status.idle": "2025-01-24T15:16:02.247211Z",
     "shell.execute_reply": "2025-01-24T15:16:02.246465Z",
     "shell.execute_reply.started": "2025-01-24T15:16:01.413445Z"
    },
    "trusted": true
   },
   "outputs": [
    {
     "data": {
      "text/plain": [
       "0.0030272336836630886"
      ]
     },
     "execution_count": 14,
     "metadata": {},
     "output_type": "execute_result"
    }
   ],
   "source": [
    "y_pred=model.predict(X_val)\n",
    "val_score = r2_score(y_val, y_pred, sample_weight=w_val)\n",
    "val_score"
   ]
  },
  {
   "cell_type": "code",
   "execution_count": 15,
   "metadata": {
    "execution": {
     "iopub.execute_input": "2025-01-24T15:16:02.248417Z",
     "iopub.status.busy": "2025-01-24T15:16:02.248137Z",
     "iopub.status.idle": "2025-01-24T15:18:08.210007Z",
     "shell.execute_reply": "2025-01-24T15:18:08.209146Z",
     "shell.execute_reply.started": "2025-01-24T15:16:02.248395Z"
    },
    "trusted": true
   },
   "outputs": [
    {
     "name": "stderr",
     "output_type": "stream",
     "text": [
      "/usr/local/lib/python3.10/dist-packages/xgboost/core.py:160: UserWarning: [15:17:02] WARNING: /workspace/src/common/error_msg.cc:27: The tree method `gpu_hist` is deprecated since 2.0.0. To use GPU training, set the `device` parameter to CUDA instead.\n",
      "\n",
      "    E.g. tree_method = \"hist\", device = \"cuda\"\n",
      "\n",
      "  warnings.warn(smsg, UserWarning)\n",
      "/usr/local/lib/python3.10/dist-packages/xgboost/core.py:160: UserWarning: [15:17:02] WARNING: /workspace/src/learner.cc:742: \n",
      "Parameters: { \"n_gpus\" } are not used.\n",
      "\n",
      "  warnings.warn(smsg, UserWarning)\n"
     ]
    },
    {
     "data": {
      "text/html": [
       "<style>#sk-container-id-2 {color: black;background-color: white;}#sk-container-id-2 pre{padding: 0;}#sk-container-id-2 div.sk-toggleable {background-color: white;}#sk-container-id-2 label.sk-toggleable__label {cursor: pointer;display: block;width: 100%;margin-bottom: 0;padding: 0.3em;box-sizing: border-box;text-align: center;}#sk-container-id-2 label.sk-toggleable__label-arrow:before {content: \"▸\";float: left;margin-right: 0.25em;color: #696969;}#sk-container-id-2 label.sk-toggleable__label-arrow:hover:before {color: black;}#sk-container-id-2 div.sk-estimator:hover label.sk-toggleable__label-arrow:before {color: black;}#sk-container-id-2 div.sk-toggleable__content {max-height: 0;max-width: 0;overflow: hidden;text-align: left;background-color: #f0f8ff;}#sk-container-id-2 div.sk-toggleable__content pre {margin: 0.2em;color: black;border-radius: 0.25em;background-color: #f0f8ff;}#sk-container-id-2 input.sk-toggleable__control:checked~div.sk-toggleable__content {max-height: 200px;max-width: 100%;overflow: auto;}#sk-container-id-2 input.sk-toggleable__control:checked~label.sk-toggleable__label-arrow:before {content: \"▾\";}#sk-container-id-2 div.sk-estimator input.sk-toggleable__control:checked~label.sk-toggleable__label {background-color: #d4ebff;}#sk-container-id-2 div.sk-label input.sk-toggleable__control:checked~label.sk-toggleable__label {background-color: #d4ebff;}#sk-container-id-2 input.sk-hidden--visually {border: 0;clip: rect(1px 1px 1px 1px);clip: rect(1px, 1px, 1px, 1px);height: 1px;margin: -1px;overflow: hidden;padding: 0;position: absolute;width: 1px;}#sk-container-id-2 div.sk-estimator {font-family: monospace;background-color: #f0f8ff;border: 1px dotted black;border-radius: 0.25em;box-sizing: border-box;margin-bottom: 0.5em;}#sk-container-id-2 div.sk-estimator:hover {background-color: #d4ebff;}#sk-container-id-2 div.sk-parallel-item::after {content: \"\";width: 100%;border-bottom: 1px solid gray;flex-grow: 1;}#sk-container-id-2 div.sk-label:hover label.sk-toggleable__label {background-color: #d4ebff;}#sk-container-id-2 div.sk-serial::before {content: \"\";position: absolute;border-left: 1px solid gray;box-sizing: border-box;top: 0;bottom: 0;left: 50%;z-index: 0;}#sk-container-id-2 div.sk-serial {display: flex;flex-direction: column;align-items: center;background-color: white;padding-right: 0.2em;padding-left: 0.2em;position: relative;}#sk-container-id-2 div.sk-item {position: relative;z-index: 1;}#sk-container-id-2 div.sk-parallel {display: flex;align-items: stretch;justify-content: center;background-color: white;position: relative;}#sk-container-id-2 div.sk-item::before, #sk-container-id-2 div.sk-parallel-item::before {content: \"\";position: absolute;border-left: 1px solid gray;box-sizing: border-box;top: 0;bottom: 0;left: 50%;z-index: -1;}#sk-container-id-2 div.sk-parallel-item {display: flex;flex-direction: column;z-index: 1;position: relative;background-color: white;}#sk-container-id-2 div.sk-parallel-item:first-child::after {align-self: flex-end;width: 50%;}#sk-container-id-2 div.sk-parallel-item:last-child::after {align-self: flex-start;width: 50%;}#sk-container-id-2 div.sk-parallel-item:only-child::after {width: 0;}#sk-container-id-2 div.sk-dashed-wrapped {border: 1px dashed gray;margin: 0 0.4em 0.5em 0.4em;box-sizing: border-box;padding-bottom: 0.4em;background-color: white;}#sk-container-id-2 div.sk-label label {font-family: monospace;font-weight: bold;display: inline-block;line-height: 1.2em;}#sk-container-id-2 div.sk-label-container {text-align: center;}#sk-container-id-2 div.sk-container {/* jupyter's `normalize.less` sets `[hidden] { display: none; }` but bootstrap.min.css set `[hidden] { display: none !important; }` so we also need the `!important` here to be able to override the default hidden behavior on the sphinx rendered scikit-learn.org. See: https://github.com/scikit-learn/scikit-learn/issues/21755 */display: inline-block !important;position: relative;}#sk-container-id-2 div.sk-text-repr-fallback {display: none;}</style><div id=\"sk-container-id-2\" class=\"sk-top-container\"><div class=\"sk-text-repr-fallback\"><pre>XGBRegressor(base_score=None, booster=None, callbacks=None,\n",
       "             colsample_bylevel=None, colsample_bynode=None,\n",
       "             colsample_bytree=0.8, device=&#x27;cuda&#x27;, early_stopping_rounds=None,\n",
       "             enable_categorical=False, eval_metric=None, feature_types=None,\n",
       "             gamma=None, grow_policy=None, importance_type=None,\n",
       "             interaction_constraints=None, learning_rate=0.05, max_bin=None,\n",
       "             max_cat_threshold=None, max_cat_to_onehot=None,\n",
       "             max_delta_step=None, max_depth=6, max_leaves=None,\n",
       "             min_child_weight=None, missing=nan, monotone_constraints=None,\n",
       "             multi_strategy=None, n_estimators=200, n_gpus=2, n_jobs=None,\n",
       "             num_parallel_tree=None, ...)</pre><b>In a Jupyter environment, please rerun this cell to show the HTML representation or trust the notebook. <br />On GitHub, the HTML representation is unable to render, please try loading this page with nbviewer.org.</b></div><div class=\"sk-container\" hidden><div class=\"sk-item\"><div class=\"sk-estimator sk-toggleable\"><input class=\"sk-toggleable__control sk-hidden--visually\" id=\"sk-estimator-id-2\" type=\"checkbox\" checked><label for=\"sk-estimator-id-2\" class=\"sk-toggleable__label sk-toggleable__label-arrow\">XGBRegressor</label><div class=\"sk-toggleable__content\"><pre>XGBRegressor(base_score=None, booster=None, callbacks=None,\n",
       "             colsample_bylevel=None, colsample_bynode=None,\n",
       "             colsample_bytree=0.8, device=&#x27;cuda&#x27;, early_stopping_rounds=None,\n",
       "             enable_categorical=False, eval_metric=None, feature_types=None,\n",
       "             gamma=None, grow_policy=None, importance_type=None,\n",
       "             interaction_constraints=None, learning_rate=0.05, max_bin=None,\n",
       "             max_cat_threshold=None, max_cat_to_onehot=None,\n",
       "             max_delta_step=None, max_depth=6, max_leaves=None,\n",
       "             min_child_weight=None, missing=nan, monotone_constraints=None,\n",
       "             multi_strategy=None, n_estimators=200, n_gpus=2, n_jobs=None,\n",
       "             num_parallel_tree=None, ...)</pre></div></div></div></div></div>"
      ],
      "text/plain": [
       "XGBRegressor(base_score=None, booster=None, callbacks=None,\n",
       "             colsample_bylevel=None, colsample_bynode=None,\n",
       "             colsample_bytree=0.8, device='cuda', early_stopping_rounds=None,\n",
       "             enable_categorical=False, eval_metric=None, feature_types=None,\n",
       "             gamma=None, grow_policy=None, importance_type=None,\n",
       "             interaction_constraints=None, learning_rate=0.05, max_bin=None,\n",
       "             max_cat_threshold=None, max_cat_to_onehot=None,\n",
       "             max_delta_step=None, max_depth=6, max_leaves=None,\n",
       "             min_child_weight=None, missing=nan, monotone_constraints=None,\n",
       "             multi_strategy=None, n_estimators=200, n_gpus=2, n_jobs=None,\n",
       "             num_parallel_tree=None, ...)"
      ]
     },
     "execution_count": 15,
     "metadata": {},
     "output_type": "execute_result"
    }
   ],
   "source": [
    "final_params=XGB_Params\n",
    "model=XGBRegressor(**final_params)\n",
    "data_set=train.collect()\n",
    "X=data_set[features]\n",
    "y=data_set[target]\n",
    "w=data_set[\"weight\"]\n",
    "model.fit(X, y, sample_weight=w)"
   ]
  },
  {
   "cell_type": "code",
   "execution_count": 16,
   "metadata": {
    "execution": {
     "iopub.execute_input": "2025-01-24T15:18:08.212056Z",
     "iopub.status.busy": "2025-01-24T15:18:08.211738Z",
     "iopub.status.idle": "2025-01-24T15:18:08.223411Z",
     "shell.execute_reply": "2025-01-24T15:18:08.222137Z",
     "shell.execute_reply.started": "2025-01-24T15:18:08.212025Z"
    },
    "trusted": true
   },
   "outputs": [
    {
     "name": "stderr",
     "output_type": "stream",
     "text": [
      "/usr/local/lib/python3.10/dist-packages/xgboost/core.py:160: UserWarning: [15:18:08] WARNING: /workspace/src/common/error_msg.cc:27: The tree method `gpu_hist` is deprecated since 2.0.0. To use GPU training, set the `device` parameter to CUDA instead.\n",
      "\n",
      "    E.g. tree_method = \"hist\", device = \"cuda\"\n",
      "\n",
      "  warnings.warn(smsg, UserWarning)\n"
     ]
    }
   ],
   "source": [
    "with open(\"xgb_model.pkl\", \"wb\") as fp:\n",
    "    pickle.dump(model, fp)"
   ]
  }
 ],
 "metadata": {
  "kaggle": {
   "accelerator": "nvidiaTeslaT4",
   "dataSources": [
    {
     "databundleVersionId": 9871156,
     "sourceId": 84493,
     "sourceType": "competition"
    }
   ],
   "dockerImageVersionId": 30840,
   "isGpuEnabled": true,
   "isInternetEnabled": true,
   "language": "python",
   "sourceType": "notebook"
  },
  "kernelspec": {
   "display_name": "Python 3",
   "language": "python",
   "name": "python3"
  },
  "language_info": {
   "codemirror_mode": {
    "name": "ipython",
    "version": 3
   },
   "file_extension": ".py",
   "mimetype": "text/x-python",
   "name": "python",
   "nbconvert_exporter": "python",
   "pygments_lexer": "ipython3",
   "version": "3.10.12"
  }
 },
 "nbformat": 4,
 "nbformat_minor": 4
}
